{
  "nbformat": 4,
  "nbformat_minor": 0,
  "metadata": {
    "colab": {
      "provenance": [],
      "authorship_tag": "ABX9TyMKUsbaRxwGSfPvuAj+zTJe",
      "include_colab_link": true
    },
    "kernelspec": {
      "name": "python3",
      "display_name": "Python 3"
    },
    "language_info": {
      "name": "python"
    }
  },
  "cells": [
    {
      "cell_type": "markdown",
      "metadata": {
        "id": "view-in-github",
        "colab_type": "text"
      },
      "source": [
        "<a href=\"https://colab.research.google.com/github/kridtapon/EMA-RSI-MACD-VWAP-Prediction-Model/blob/main/EMA_RSI_MACD_VWAP_Prediction_Model.ipynb\" target=\"_parent\"><img src=\"https://colab.research.google.com/assets/colab-badge.svg\" alt=\"Open In Colab\"/></a>"
      ]
    },
    {
      "cell_type": "code",
      "source": [
        "# Step 1: Import necessary libraries\n",
        "import pandas as pd\n",
        "import numpy as np\n",
        "import yfinance as yf\n",
        "from sklearn.ensemble import RandomForestClassifier\n",
        "from sklearn.model_selection import train_test_split\n",
        "from sklearn.metrics import accuracy_score\n",
        "import matplotlib.pyplot as plt"
      ],
      "metadata": {
        "id": "W0OP2DB2UBMi"
      },
      "execution_count": null,
      "outputs": []
    },
    {
      "cell_type": "code",
      "source": [
        "# Step 2: Load data (example: CSV file with historical stock data)\n",
        "data = yf.download('AAPL', start='2000-01-01', end='2024-01-01')\n",
        "data_clean = data.copy()\n",
        "data_clean = data_clean.ffill()\n",
        "data_clean.columns = ['Date','Close','High','Low','Open','Volume']\n",
        "data = data_clean.copy()"
      ],
      "metadata": {
        "id": "kUHyied4UD3i"
      },
      "execution_count": null,
      "outputs": []
    },
    {
      "cell_type": "code",
      "source": [
        "# Step 3: Calculate technical indicators manually\n",
        "\n",
        "# EMA (Exponential Moving Average)\n",
        "def calculate_ema(data, period):\n",
        "    return data['Close'].ewm(span=period, adjust=False).mean()\n",
        "\n",
        "data['EMA_12'] = calculate_ema(data, 12)\n",
        "data['EMA_26'] = calculate_ema(data, 26)\n",
        "\n",
        "# MACD (Moving Average Convergence Divergence)\n",
        "def calculate_macd(data, fastperiod=12, slowperiod=26, signalperiod=9):\n",
        "    macd = calculate_ema(data, fastperiod) - calculate_ema(data, slowperiod)\n",
        "    macd_signal = macd.ewm(span=signalperiod, adjust=False).mean()\n",
        "    macd_hist = macd - macd_signal\n",
        "    return macd, macd_signal, macd_hist\n",
        "\n",
        "data['MACD'], data['MACD_signal'], data['MACD_hist'] = calculate_macd(data)\n",
        "\n",
        "# RSI (Relative Strength Index)\n",
        "def calculate_rsi(data, period=14):\n",
        "    delta = data['Close'].diff()\n",
        "    gain = (delta.where(delta > 0, 0)).rolling(window=period).mean()\n",
        "    loss = (-delta.where(delta < 0, 0)).rolling(window=period).mean()\n",
        "    rs = gain / loss\n",
        "    rsi = 100 - (100 / (1 + rs))\n",
        "    return rsi\n",
        "\n",
        "data['RSI'] = calculate_rsi(data)\n",
        "\n",
        "# VWAP (Volume Weighted Average Price)\n",
        "def calculate_vwap(data):\n",
        "    return (data['Close'] * data['Volume']).cumsum() / data['Volume'].cumsum()\n",
        "\n",
        "data['VWAP'] = calculate_vwap(data)\n",
        "\n",
        "# Step 4: Feature engineering (use previous day's data for prediction)\n",
        "data['Prev_Close'] = data['Close'].shift(1)\n",
        "data['Prev_EMA_12'] = data['EMA_12'].shift(1)\n",
        "data['Prev_MACD'] = data['MACD'].shift(1)\n",
        "data['Prev_RSI'] = data['RSI'].shift(1)\n",
        "data['Prev_VWAP'] = data['VWAP'].shift(1)\n",
        "\n",
        "# Drop any rows with NaN values that were created by the shifts\n",
        "data = data.dropna()\n",
        "\n",
        "# Step 5: Create target variable (e.g., predict whether the price will go up or down)\n",
        "data['Target'] = np.where(data['Close'].shift(-1) > data['Close'], 1, 0)  # 1 for up, 0 for down\n",
        "\n",
        "# Step 6: Define features (X) and target (y)\n",
        "X = data[['Prev_Close', 'Prev_EMA_12', 'Prev_MACD', 'Prev_RSI', 'Prev_VWAP']]\n",
        "y = data['Target']\n",
        "\n",
        "# Step 7: Split data into training and test sets\n",
        "X_train, X_test, y_train, y_test = train_test_split(X, y, test_size=0.2, random_state=42)\n",
        "\n",
        "# Step 8: Build and train the machine learning model\n",
        "model = RandomForestClassifier(n_estimators=100, random_state=42)\n",
        "model.fit(X_train, y_train)\n",
        "\n",
        "# Step 9: Make predictions on the test set\n",
        "y_pred = model.predict(X_test)\n",
        "\n",
        "# Step 10: Evaluate the model\n",
        "accuracy = accuracy_score(y_test, y_pred)\n",
        "print(f\"Accuracy: {accuracy * 100:.2f}%\")\n",
        "\n",
        "# Optional: Plot the feature importances\n",
        "feature_importances = model.feature_importances_\n",
        "features = X.columns\n",
        "\n",
        "plt.bar(features, feature_importances)\n",
        "plt.xlabel('Features')\n",
        "plt.ylabel('Importance')\n",
        "plt.title('Feature Importance')\n",
        "plt.show()\n"
      ],
      "metadata": {
        "colab": {
          "base_uri": "https://localhost:8080/",
          "height": 507
        },
        "id": "tTZhbCfwRveV",
        "outputId": "1202fe6c-68f0-4d84-cb36-5b4cad03091d"
      },
      "execution_count": 6,
      "outputs": [
        {
          "output_type": "stream",
          "name": "stderr",
          "text": [
            "\r[*********************100%***********************]  1 of 1 completed\n"
          ]
        },
        {
          "output_type": "stream",
          "name": "stdout",
          "text": [
            "Accuracy: 50.12%\n"
          ]
        },
        {
          "output_type": "display_data",
          "data": {
            "text/plain": [
              "<Figure size 640x480 with 1 Axes>"
            ],
            "image/png": "[encoded data removed]"
          },
          "metadata": {}
        }
      ]
    }
  ]
}